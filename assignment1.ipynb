{
  "nbformat": 4,
  "nbformat_minor": 0,
  "metadata": {
    "kernelspec": {
      "display_name": "Python 3",
      "language": "python",
      "name": "python3"
    },
    "language_info": {
      "codemirror_mode": {
        "name": "ipython",
        "version": 3
      },
      "file_extension": ".py",
      "mimetype": "text/x-python",
      "name": "python",
      "nbconvert_exporter": "python",
      "pygments_lexer": "ipython3",
      "version": "3.6.6"
    },
    "toc": {
      "base_numbering": 1,
      "nav_menu": {},
      "number_sections": false,
      "sideBar": true,
      "skip_h1_title": false,
      "title_cell": "Table of Contents",
      "title_sidebar": "Contents",
      "toc_cell": false,
      "toc_position": {},
      "toc_section_display": true,
      "toc_window_display": false
    },
    "colab": {
      "name": "assignment1.ipynb",
      "provenance": [],
      "collapsed_sections": [],
      "include_colab_link": true
    }
  },
  "cells": [
    {
      "cell_type": "markdown",
      "metadata": {
        "id": "view-in-github",
        "colab_type": "text"
      },
      "source": [
        "<a href=\"https://colab.research.google.com/github/tylermccluskey97/hello-world/blob/master/assignment1.ipynb\" target=\"_parent\"><img src=\"https://colab.research.google.com/assets/colab-badge.svg\" alt=\"Open In Colab\"/></a>"
      ]
    },
    {
      "cell_type": "markdown",
      "metadata": {
        "id": "yCspyQo3Evmk",
        "colab_type": "text"
      },
      "source": [
        "Before you turn this assignment in, make sure everything runs as expected. \n",
        "\n",
        "You can either **restart the kernel** (in the menu bar, select Kernel $\\rightarrow$ Restart and Clear Output) and then **run all cells** (in the menu bar, select Cell $\\rightarrow$ Run All). \n",
        "Or, you can simply **clear the output for all cells** (in the menu bar, select Cell $\\rightarrow$ All Output $\\rightarrow$ Clear) and then **run all cells** (in the menu bar, select Cell $\\rightarrow$ Run All).\n",
        "\n",
        "---"
      ]
    },
    {
      "cell_type": "code",
      "metadata": {
        "id": "WwDN-SZ8Evmm",
        "colab_type": "code",
        "colab": {}
      },
      "source": [
        "NAME = \"Tyler Mccluskey\"\n",
        "COLLABORATORS = \"\""
      ],
      "execution_count": 0,
      "outputs": []
    },
    {
      "cell_type": "markdown",
      "metadata": {
        "id": "XutQ1zLxEvmv",
        "colab_type": "text"
      },
      "source": [
        "# Assignment 1 - Intro to Python\n",
        "\n",
        "(15 points)"
      ]
    },
    {
      "cell_type": "markdown",
      "metadata": {
        "id": "buKhziDvEvmx",
        "colab_type": "text"
      },
      "source": [
        "## Learning Outcomes\n",
        "\n",
        "In this assignment you will practice:\n",
        "\n",
        "- Basic Python syntax\n",
        "- Writing simple Python functions\n",
        "- Working with strings and dictionaries"
      ]
    },
    {
      "cell_type": "markdown",
      "metadata": {
        "id": "AtkJdpK6Evmz",
        "colab_type": "text"
      },
      "source": [
        "## Question #1: Count symbols\n",
        "\n",
        "(3 points)"
      ]
    },
    {
      "cell_type": "markdown",
      "metadata": {
        "id": "e1iHOzAvEvm2",
        "colab_type": "text"
      },
      "source": [
        "In this question, you are given a string `s` which represents a DNA string. The string `s` consists of symbols `'A', 'C', 'G',` and `'T'`. An example of a length 21 DNA string is `\"ATGCTTCAGAAAGGTCTTACG.\"` \n",
        "\n",
        "Your task is to write a code which will count the number of times each of the symbols `'A', 'C', 'G'`, and `'T'` occur in `s`. Your code should generate a **list of 4 integers** and **print it out**."
      ]
    },
    {
      "cell_type": "code",
      "metadata": {
        "id": "t_1SaSknEvm3",
        "colab_type": "code",
        "colab": {}
      },
      "source": [
        "# Here is the DNA string:\n",
        "\n",
        "s = 'AGCTTTTCATTCTGACTGCAACGGGCAATATGTCTCTGTGTGGATTAAAAAAAGAGTGTCTGATAGCAGC'"
      ],
      "execution_count": 0,
      "outputs": []
    },
    {
      "cell_type": "code",
      "metadata": {
        "id": "Eb1ObfIOEvm8",
        "colab_type": "code",
        "colab": {}
      },
      "source": [
        "# Type your code here"
      ],
      "execution_count": 0,
      "outputs": []
    },
    {
      "cell_type": "code",
      "metadata": {
        "id": "nd6tvuYuEvnC",
        "colab_type": "code",
        "outputId": "b8a0b5ed-d115-4b51-da43-0da78c1e0542",
        "colab": {
          "base_uri": "https://localhost:8080/",
          "height": 85
        }
      },
      "source": [
        "print(s.count('A'))\n",
        "print(s.count('T'))\n",
        "print(s.count('G'))\n",
        "print(s.count('C'))\n"
      ],
      "execution_count": 0,
      "outputs": [
        {
          "output_type": "stream",
          "text": [
            "20\n",
            "21\n",
            "17\n",
            "12\n"
          ],
          "name": "stdout"
        }
      ]
    },
    {
      "cell_type": "markdown",
      "metadata": {
        "id": "MBVv9gBrEvnI",
        "colab_type": "text"
      },
      "source": [
        "## Question #2: Find a substring\n",
        "\n",
        "(4 points)"
      ]
    },
    {
      "cell_type": "markdown",
      "metadata": {
        "id": "BfIUOCEREvnK",
        "colab_type": "text"
      },
      "source": [
        "You are given a dictionary of the US states and their capitals. The keys in the dictionary are states and the values are capital names.\n",
        "\n",
        "Write a code to return a **list of all capitals** that contain the name of a state in their name as a substring.\n",
        "\n",
        "**HINT:** For example, `Indianapolis` as a capital name and `Indiana` as a state name is one of the key/value pairs that your code would find. Your code should add `Indianapolis` to the list. After you found all capitals and added them to the list, print out the list."
      ]
    },
    {
      "cell_type": "code",
      "metadata": {
        "id": "LutTju5kEvnN",
        "colab_type": "code",
        "outputId": "c5e887b8-d5af-4e2d-fc48-fbb116853665",
        "colab": {
          "base_uri": "https://localhost:8080/",
          "height": 867
        }
      },
      "source": [
        "# Run this cell to create a dictionary of states' capitals\n",
        "capitals={\n",
        "    'Alabama': 'Montgomery',\n",
        "    'Alaska': 'Juneau',\n",
        "    'Arizona':'Phoenix',\n",
        "    'Arkansas':'Little Rock',\n",
        "    'California': 'Sacramento',\n",
        "    'Colorado':'Denver',\n",
        "    'Connecticut':'Hartford',\n",
        "    'Delaware':'Dover',\n",
        "    'Florida': 'Tallahassee',\n",
        "    'Georgia': 'Atlanta',\n",
        "    'Hawaii': 'Honolulu',\n",
        "    'Idaho': 'Boise',\n",
        "    'Illinios': 'Springfield',\n",
        "    'Indiana': 'Indianapolis',\n",
        "    'Iowa': 'Des Monies',\n",
        "    'Kansas': 'Topeka',\n",
        "    'Kentucky': 'Frankfort',\n",
        "    'Louisiana': 'Baton Rouge',\n",
        "    'Maine': 'Augusta',\n",
        "    'Maryland': 'Annapolis',\n",
        "    'Massachusetts': 'Boston',\n",
        "    'Michigan': 'Lansing',\n",
        "    'Minnesota': 'St. Paul',\n",
        "    'Mississippi': 'Jackson',\n",
        "    'Missouri': 'Jefferson City',\n",
        "    'Montana': 'Helena',\n",
        "    'Nebraska': 'Lincoln',\n",
        "    'Neveda': 'Carson City',\n",
        "    'New Hampshire': 'Concord',\n",
        "    'New Jersey': 'Trenton',\n",
        "    'New Mexico': 'Santa Fe',\n",
        "    'New York': 'Albany',\n",
        "    'North Carolina': 'Raleigh',\n",
        "    'North Dakota': 'Bismarck',\n",
        "    'Ohio': 'Columbus',\n",
        "    'Oklahoma': 'Oklahoma City',\n",
        "    'Oregon': 'Salem',\n",
        "    'Pennsylvania': 'Harrisburg',\n",
        "    'Rhoda Island': 'Providence',\n",
        "    'South Carolina': 'Columbia',\n",
        "    'South Dakota': 'Pierre',\n",
        "    'Tennessee': 'Nashville',\n",
        "    'Texas': 'Austin',\n",
        "    'Utah': 'Salt Lake City',\n",
        "    'Vermont': 'Montpelier',\n",
        "    'Virginia': 'Richmond',\n",
        "    'Washington': 'Olympia',\n",
        "    'West Virginia': 'Charleston',\n",
        "    'Wisconsin': 'Madison',\n",
        "    'Wyoming': 'Cheyenne'  \n",
        "}\n",
        "capitals"
      ],
      "execution_count": 0,
      "outputs": [
        {
          "output_type": "execute_result",
          "data": {
            "text/plain": [
              "{'Alabama': 'Montgomery',\n",
              " 'Alaska': 'Juneau',\n",
              " 'Arizona': 'Phoenix',\n",
              " 'Arkansas': 'Little Rock',\n",
              " 'California': 'Sacramento',\n",
              " 'Colorado': 'Denver',\n",
              " 'Connecticut': 'Hartford',\n",
              " 'Delaware': 'Dover',\n",
              " 'Florida': 'Tallahassee',\n",
              " 'Georgia': 'Atlanta',\n",
              " 'Hawaii': 'Honolulu',\n",
              " 'Idaho': 'Boise',\n",
              " 'Illinios': 'Springfield',\n",
              " 'Indiana': 'Indianapolis',\n",
              " 'Iowa': 'Des Monies',\n",
              " 'Kansas': 'Topeka',\n",
              " 'Kentucky': 'Frankfort',\n",
              " 'Louisiana': 'Baton Rouge',\n",
              " 'Maine': 'Augusta',\n",
              " 'Maryland': 'Annapolis',\n",
              " 'Massachusetts': 'Boston',\n",
              " 'Michigan': 'Lansing',\n",
              " 'Minnesota': 'St. Paul',\n",
              " 'Mississippi': 'Jackson',\n",
              " 'Missouri': 'Jefferson City',\n",
              " 'Montana': 'Helena',\n",
              " 'Nebraska': 'Lincoln',\n",
              " 'Neveda': 'Carson City',\n",
              " 'New Hampshire': 'Concord',\n",
              " 'New Jersey': 'Trenton',\n",
              " 'New Mexico': 'Santa Fe',\n",
              " 'New York': 'Albany',\n",
              " 'North Carolina': 'Raleigh',\n",
              " 'North Dakota': 'Bismarck',\n",
              " 'Ohio': 'Columbus',\n",
              " 'Oklahoma': 'Oklahoma City',\n",
              " 'Oregon': 'Salem',\n",
              " 'Pennsylvania': 'Harrisburg',\n",
              " 'Rhoda Island': 'Providence',\n",
              " 'South Carolina': 'Columbia',\n",
              " 'South Dakota': 'Pierre',\n",
              " 'Tennessee': 'Nashville',\n",
              " 'Texas': 'Austin',\n",
              " 'Utah': 'Salt Lake City',\n",
              " 'Vermont': 'Montpelier',\n",
              " 'Virginia': 'Richmond',\n",
              " 'Washington': 'Olympia',\n",
              " 'West Virginia': 'Charleston',\n",
              " 'Wisconsin': 'Madison',\n",
              " 'Wyoming': 'Cheyenne'}"
            ]
          },
          "metadata": {
            "tags": []
          },
          "execution_count": 33
        }
      ]
    },
    {
      "cell_type": "code",
      "metadata": {
        "id": "KOMySzw4EvnT",
        "colab_type": "code",
        "outputId": "61060b40-36ac-4fd0-e580-dad494f0a68a",
        "colab": {
          "base_uri": "https://localhost:8080/",
          "height": 51
        }
      },
      "source": [
        "\n",
        "for x in capitals.keys():\n",
        "    if(x in capitals[x]):\n",
        "        print(capitals[x])"
      ],
      "execution_count": 0,
      "outputs": [
        {
          "output_type": "stream",
          "text": [
            "Indianapolis\n",
            "Oklahoma City\n"
          ],
          "name": "stdout"
        }
      ]
    },
    {
      "cell_type": "code",
      "metadata": {
        "id": "pNhvWLm5Evna",
        "colab_type": "code",
        "colab": {}
      },
      "source": [
        ""
      ],
      "execution_count": 0,
      "outputs": []
    },
    {
      "cell_type": "markdown",
      "metadata": {
        "id": "Xktq8_VAEvnf",
        "colab_type": "text"
      },
      "source": [
        "## Question #3: Is a data point within a rectangle?\n",
        "\n",
        "(4 points)"
      ]
    },
    {
      "cell_type": "markdown",
      "metadata": {
        "id": "yHPzCrZREvng",
        "colab_type": "text"
      },
      "source": [
        "Write a function `isIn()` which returns **boolean `True`** if a point is within a rectangle specified by two sets of coordinates and **boolean `False`** if the point is outside the rectangle. The function should accept three parameters:\n",
        "- the first parameter is a set of coordinates which defines one of the corners of the rectangle, \n",
        "- the second parameter is also a set of coordinates that defines the second corner,\n",
        "- the third set of coordinates defines a single point which is being tested.\n",
        "\n",
        "For example, \n",
        "- `isIn((1,2), (3,4), (1.5, 3.2))` should return `True`, \n",
        "- `isIn((4,3.5), (2,1), (3, 2))` should return `True`, \n",
        "- `isIn((-1,0), (5,5), (6,0))` should return `False`,\n",
        "- `isIn((4,1), (2,4), (2.5,4.5))` should return `False`.\n",
        "\n",
        "Test your function with at least 2 different sets of data points in addition to the examples above.\n",
        "\n",
        "**NOTES:** \n",
        "1. If the point being tested is on the side of the rectangle, consider it to be within the rectangle. For example, if the rectangle is defined as `(1,2), (3,4)` and the point is `(2,2)`, the function should return `True`.\n",
        "2. In this assignment, we assume that the edges of the rectangle are parallel to coordinate axes.\n",
        "3. We also assume that the first parameter does not always represent the left corner of the rectangle and the second parameter is not always the right corner. The function should work correctly either way. Please note the second test condition above where the first parameter, `(4,3.5)`, represents the top-right corner and the second parameter, `(2,1)`, represents left-bottom corner. "
      ]
    },
    {
      "cell_type": "code",
      "metadata": {
        "id": "ZREUHI0OEvnh",
        "colab_type": "code",
        "outputId": "382a3ca5-e9af-4784-e8d3-702dd8a7a9da",
        "colab": {
          "base_uri": "https://localhost:8080/",
          "height": 34
        }
      },
      "source": [
        "\n",
        "def isIn(firstCorner=(0,0), secondCorner=(0,0), point=(0,0)):\n",
        "    if (point[0] >= firstCorner[0] and point[0] <= secondCorner[0] or point[0] <= firstCorner[0] and point[0] >= secondCorner[0]) and (point[1] >= firstCorner[1] and point[1] <= secondCorner[1] or point[1] <= firstCorner[1] and point[1] >= secondCorner[1]):\n",
        "      print(True)\n",
        "    else:\n",
        "      print(False)\n",
        "isIn((4,1), (2,4), (2.5, 3.5))"
      ],
      "execution_count": 0,
      "outputs": [
        {
          "output_type": "stream",
          "text": [
            "True\n"
          ],
          "name": "stdout"
        }
      ]
    },
    {
      "cell_type": "markdown",
      "metadata": {
        "id": "NOWNzFG9Evnu",
        "colab_type": "text"
      },
      "source": [
        "## Question #4: Are all points within a rectangle?\n",
        "\n",
        "(4 points)"
      ]
    },
    {
      "cell_type": "markdown",
      "metadata": {
        "id": "dDpZ2KmuEvnw",
        "colab_type": "text"
      },
      "source": [
        "Modify your function from the previous question so it takes a list of points rather than a single point and returns **boolean `True`** only if all points in the list are in the rectangle.\n",
        "\n",
        "For example,\n",
        "\n",
        "- `allIn((0,0), (5,5), [(1,1), (0,0), (5,5)])` should return `True`\n",
        "- but `allIn((0,0), (5,5), [(1,1), (0,0), (5,6)])` should return `False`\n",
        "- empty list of points `allIn((0,0), (5,5), [])` should return `False`\n",
        "\n",
        "Use the same assumptions as above about the placement of the points and how rectangle is defined. Make sure that your function returns `False` for empty list of points (no values).\n",
        "\n",
        "Test your function with at least 3 different sets of data points."
      ]
    },
    {
      "cell_type": "code",
      "metadata": {
        "id": "7-cRH8a-Evny",
        "colab_type": "code",
        "colab": {}
      },
      "source": [
        "def allIn(firstCorner=(0,0), secondCorner=(0,0), pointList=[]):\n",
        "    # YOUR CODE HERE"
      ],
      "execution_count": 0,
      "outputs": []
    },
    {
      "cell_type": "code",
      "metadata": {
        "id": "PNOfrdrnEvn1",
        "colab_type": "code",
        "colab": {}
      },
      "source": [
        ""
      ],
      "execution_count": 0,
      "outputs": []
    },
    {
      "cell_type": "code",
      "metadata": {
        "id": "6KLPk8DhEvn4",
        "colab_type": "code",
        "colab": {}
      },
      "source": [
        ""
      ],
      "execution_count": 0,
      "outputs": []
    },
    {
      "cell_type": "code",
      "metadata": {
        "id": "dNJmMxpAEvn6",
        "colab_type": "code",
        "colab": {}
      },
      "source": [
        ""
      ],
      "execution_count": 0,
      "outputs": []
    },
    {
      "cell_type": "code",
      "metadata": {
        "id": "x_i62Dj1Evn8",
        "colab_type": "code",
        "colab": {}
      },
      "source": [
        ""
      ],
      "execution_count": 0,
      "outputs": []
    },
    {
      "cell_type": "code",
      "metadata": {
        "id": "IkeECHcHEvoB",
        "colab_type": "code",
        "colab": {}
      },
      "source": [
        ""
      ],
      "execution_count": 0,
      "outputs": []
    }
  ]
}